{
 "cells": [
  {
   "cell_type": "markdown",
   "metadata": {},
   "source": [
    "# Mercedes tuned XGB model\n",
    "\n",
    "This is based on the the initial template for XGB analysis of the data with additional PCA for features."
   ]
  },
  {
   "cell_type": "code",
   "execution_count": 3,
   "metadata": {
    "collapsed": false
   },
   "outputs": [],
   "source": [
    "import matplotlib.pyplot as plt\n",
    "import numpy as np\n",
    "import pandas as pd\n",
    "% matplotlib inline\n",
    "import seaborn as sns\n",
    "sns.set_palette('muted')\n",
    "import time\n",
    "import os\n",
    "\n",
    "import xgboost as xgb\n",
    "from sklearn.model_selection import KFold\n",
    "from sklearn.model_selection import cross_val_score\n",
    "from sklearn.pipeline import make_pipeline\n",
    "from sklearn.base import BaseEstimator, TransformerMixin, ClassifierMixin\n",
    "from sklearn.utils import check_array\n",
    "from sklearn.linear_model import LassoLarsCV\n",
    "from sklearn.ensemble import GradientBoostingRegressor\n",
    "from sklearn.random_projection import GaussianRandomProjection\n",
    "from sklearn.random_projection import SparseRandomProjection\n",
    "from sklearn.decomposition import PCA, FastICA\n",
    "from sklearn.decomposition import TruncatedSVD\n",
    "from sklearn.metrics import r2_score\n",
    "from sklearn.preprocessing import LabelEncoder\n",
    "\n",
    "import warnings\n",
    "warnings.filterwarnings('ignore')"
   ]
  },
  {
   "cell_type": "code",
   "execution_count": 4,
   "metadata": {},
   "outputs": [],
   "source": [
    "class StackingEstimator(BaseEstimator, TransformerMixin):\n",
    "    \n",
    "    def __init__(self, estimator):\n",
    "        self.estimator = estimator\n",
    "        \n",
    "    def fit(self, X, y=None, **fit_params):\n",
    "        self.estimator.fit(X, y, **fit_params)\n",
    "        return self\n",
    "    \n",
    "    def transform(self, X):\n",
    "        X = check_array(X)\n",
    "        X_transformed = np.copy(X)\n",
    "        \n",
    "        # add class probabilities as a synthetic feature\n",
    "        if issubclass(self.estimator.__class__, ClassifierMixin) and hasattr(self.estimator, 'predict_proba'):\n",
    "            X_transformed = np.hstack((self.estimator.predict_proba(X), X))\n",
    "\n",
    "        # add class prediction as a synthetic feature\n",
    "        X_transformed = np.hstack((np.reshape(self.estimator.predict(X), (-1, 1)), X_transformed))\n",
    "\n",
    "        return X_transformed"
   ]
  },
  {
   "cell_type": "markdown",
   "metadata": {},
   "source": [
    "# Data preprocessing"
   ]
  },
  {
   "cell_type": "code",
   "execution_count": 5,
   "metadata": {},
   "outputs": [
    {
     "data": {
      "text/plain": [
       "((4209, 377), (4209,), (4209, 377))"
      ]
     },
     "execution_count": 4,
     "metadata": {},
     "output_type": "execute_result"
    }
   ],
   "source": [
    "# load train and test data\n",
    "train = pd.read_csv('input/train.csv')\n",
    "test = pd.read_csv('input/test.csv')\n",
    "\n",
    "(train.shape, test.shape)\n",
    "# encode categorical data\n",
    "for c in train.columns:\n",
    "    if train[c].dtype == 'object':\n",
    "        lbl = LabelEncoder()\n",
    "        lbl.fit(list(train[c].values) + list(test[c].values))\n",
    "        train[c] = lbl.transform(list(train[c].values))\n",
    "        test[c] = lbl.transform(list(test[c].values))\n",
    "# get X and y for training\n",
    "X_train = train.drop('y', axis=1)\n",
    "y_train = train['y']\n",
    "\n",
    "# get X for testing\n",
    "X_test = test\n",
    "X_train.shape, y_train.shape, X_test.shape"
   ]
  },
  {
   "cell_type": "markdown",
   "metadata": {},
   "source": [
    "# Feature engineering"
   ]
  },
  {
   "cell_type": "code",
   "execution_count": 6,
   "metadata": {},
   "outputs": [
    {
     "data": {
      "text/plain": [
       "((4209, 60), (4209, 60))"
      ]
     },
     "execution_count": 5,
     "metadata": {},
     "output_type": "execute_result"
    }
   ],
   "source": [
    "n_comp = 12\n",
    "\n",
    "# tSVD\n",
    "tsvd = TruncatedSVD(n_components=n_comp, random_state=420)\n",
    "tsvd_results_train = tsvd.fit_transform(X_train)\n",
    "tsvd_results_test = tsvd.transform(X_test)\n",
    "\n",
    "# PCA\n",
    "pca = PCA(n_components=n_comp, random_state=420)\n",
    "pca2_results_train = pca.fit_transform(X_train)\n",
    "pca2_results_test = pca.transform(X_test)\n",
    "\n",
    "# ICA\n",
    "ica = FastICA(n_components=n_comp, random_state=420)\n",
    "ica2_results_train = ica.fit_transform(X_train)\n",
    "ica2_results_test = ica.transform(X_test)\n",
    "\n",
    "# GRP\n",
    "grp = GaussianRandomProjection(n_components=n_comp, eps=0.1, random_state=420)\n",
    "grp_results_train = grp.fit_transform(X_train)\n",
    "grp_results_test = grp.transform(X_test)\n",
    "\n",
    "# SRP\n",
    "srp = SparseRandomProjection(n_components=n_comp, dense_output=True, random_state=420)\n",
    "srp_results_train = srp.fit_transform(X_train)\n",
    "srp_results_test = srp.transform(X_test)\n",
    "\n",
    "#save columns list before adding the decomposition components\n",
    "\n",
    "usable_columns = list(set(train.columns) - set(['y']))\n",
    "\n",
    "# create empty dataframes to capture extra features\n",
    "extra_features_train = pd.DataFrame()\n",
    "extra_features_test = pd.DataFrame()\n",
    "\n",
    "# Append decomposition components to datasets\n",
    "for i in range(1, n_comp + 1):\n",
    "    extra_features_train['pca_' + str(i)] = pca2_results_train[:, i - 1]\n",
    "    extra_features_test['pca_' + str(i)] = pca2_results_test[:, i - 1]\n",
    "\n",
    "    extra_features_train['ica_' + str(i)] = ica2_results_train[:, i - 1]\n",
    "    extra_features_test['ica_' + str(i)] = ica2_results_test[:, i - 1]\n",
    "\n",
    "    extra_features_train['tsvd_' + str(i)] = tsvd_results_train[:, i - 1]\n",
    "    extra_features_test['tsvd_' + str(i)] = tsvd_results_test[:, i - 1]\n",
    "\n",
    "    extra_features_train['grp_' + str(i)] = grp_results_train[:, i - 1]\n",
    "    extra_features_test['grp_' + str(i)] = grp_results_test[:, i - 1]\n",
    "\n",
    "    extra_features_train['srp_' + str(i)] = srp_results_train[:, i - 1]\n",
    "    extra_features_test['srp_' + str(i)] = srp_results_test[:, i - 1]\n",
    "\n",
    "extra_features_train.shape, extra_features_test.shape"
   ]
  },
  {
   "cell_type": "markdown",
   "metadata": {},
   "source": [
    "# Stacked model"
   ]
  },
  {
   "cell_type": "code",
   "execution_count": 7,
   "metadata": {
    "collapsed": true
   },
   "outputs": [],
   "source": [
    "stacked_pipeline = make_pipeline(\n",
    "    StackingEstimator(estimator=LassoLarsCV(normalize=True)),\n",
    "    StackingEstimator(estimator=GradientBoostingRegressor(learning_rate=0.001, loss=\"huber\", max_depth=3, \n",
    "                                                          max_features=0.55, min_samples_leaf=18, min_samples_split=14, \n",
    "                                                          subsample=0.7)),\n",
    "    LassoLarsCV()\n",
    ")\n",
    "\n",
    "# stacked model is trained without the extra features\n",
    "stacked_pipeline.fit(X_train, y_train)\n",
    "y_pred1 = stacked_pipeline.predict(X_test)"
   ]
  },
  {
   "cell_type": "code",
   "execution_count": 8,
   "metadata": {
    "collapsed": true
   },
   "outputs": [],
   "source": [
    "# evaluate pipeline\n",
    "# t0 = time.time()\n",
    "# seed = 7\n",
    "# kfold = KFold(n_splits=10, random_state=seed)\n",
    "# results = cross_val_score(stacked_pipeline, X_train, y_train, cv=kfold)\n",
    "# print(results.mean())\n",
    "# print(\"Done: {:.1f} s\".format(time.time() - t0))\n",
    "\n",
    "# 0.575790611694\n",
    "# Done: 47.7 s"
   ]
  },
  {
   "cell_type": "markdown",
   "metadata": {},
   "source": [
    "# XGB Model"
   ]
  },
  {
   "cell_type": "code",
   "execution_count": 9,
   "metadata": {},
   "outputs": [],
   "source": [
    "X_train = np.hstack((X_train, extra_features_train))\n",
    "X_test = np.hstack((X_test, extra_features_test))"
   ]
  },
  {
   "cell_type": "code",
   "execution_count": 23,
   "metadata": {},
   "outputs": [
    {
     "name": "stdout",
     "output_type": "stream",
     "text": [
      "Training\n"
     ]
    },
    {
     "name": "stdout",
     "output_type": "stream",
     "text": [
      "Done: 137.3 s\n"
     ]
    },
    {
     "data": {
      "text/plain": [
       "0"
      ]
     },
     "execution_count": 22,
     "metadata": {},
     "output_type": "execute_result"
    }
   ],
   "source": [
    "# train XGB\n",
    "print('Training')\n",
    "t0 = time.time()\n",
    "num_round = 1250\n",
    "eta = 0.0045\n",
    "param = {'n_trees': 520, \n",
    "         'max_depth':4, \n",
    "         'min_child_weight':4,\n",
    "         'eta':eta, 'learning_rate':eta,\n",
    "         'silent':1, 'objective':'reg:linear', \n",
    "         'subsample':0.93,# 'colsample_bytree':0.5, \n",
    "         'n_estimators':num_round, 'num_boost_round':num_round}\n",
    "dtrain = xgb.DMatrix(data=X_train, label=y_train)\n",
    "#watchlist  = [(dtest,'test'), (dtrain,'train')]\n",
    "xgb_model = xgb.train(param, dtrain, num_round)#, early_stopping_rounds=5)\n",
    "print(\"Done: {:.1f} s\".format(time.time() - t0))\n",
    "os.system('say \"finished running code\"')"
   ]
  },
  {
   "cell_type": "code",
   "execution_count": 23,
   "metadata": {},
   "outputs": [
    {
     "name": "stdout",
     "output_type": "stream",
     "text": [
      "0.568613029431\nDone: 1274.8 s\n"
     ]
    },
    {
     "data": {
      "text/plain": [
       "0"
      ]
     },
     "execution_count": 23,
     "metadata": {},
     "output_type": "execute_result"
    }
   ],
   "source": [
    "# evaluate pipeline\n",
    "t0 = time.time()\n",
    "seed = 7\n",
    "kfold = KFold(n_splits=10, random_state=seed)\n",
    "results = cross_val_score(xgb.XGBRegressor(**param), X_train, y_train, cv=kfold) # xgb_model in sklearn wrapper\n",
    "print(results.mean())\n",
    "print(\"Done: {:.1f} s\".format(time.time() - t0))\n",
    "os.system('say \"finished running code\"')\n",
    "\n",
    "# 0.573627668125 for xgb_model\n",
    "# Done: 76.6 s\n",
    "\n",
    "# 0.573665697336 # xgb_model2\n",
    "# Done: 1384.7 s"
   ]
  },
  {
   "cell_type": "markdown",
   "metadata": {},
   "source": [
    "# Cross validation"
   ]
  },
  {
   "cell_type": "code",
   "execution_count": 20,
   "metadata": {},
   "outputs": [
    {
     "name": "stdout",
     "output_type": "stream",
     "text": [
      "Cross validating\n"
     ]
    },
    {
     "name": "stdout",
     "output_type": "stream",
     "text": [
      "Done: 543.7 s\n"
     ]
    },
    {
     "data": {
      "text/plain": [
       "0"
      ]
     },
     "execution_count": 20,
     "metadata": {},
     "output_type": "execute_result"
    }
   ],
   "source": [
    "def evalcoef(preds, dtrain):\n",
    "    labels = dtrain.get_label()\n",
    "    return 'r2', r2_score(labels, preds)\n",
    "\n",
    "# train XGB\n",
    "print('Cross validating')\n",
    "t0 = time.time()\n",
    "# param same as for training\n",
    "# dtrain = xgb.DMatrix(data=X_train, label=y_train)\n",
    "# watchlist  = [(dtest,'test'), (dtrain,'train')]\n",
    "num_folds = 10\n",
    "xgb_modelcv = xgb.cv(param, dtrain, num_round, num_folds, feval=evalcoef)#, early_stopping_rounds=5)\n",
    "print(\"Done: {:.1f} s\".format(time.time() - t0))\n",
    "os.system('say \"finished running code\"')"
   ]
  },
  {
   "cell_type": "code",
   "execution_count": 21,
   "metadata": {},
   "outputs": [
    {
     "data": {
      "text/plain": [
       "<matplotlib.axes._subplots.AxesSubplot at 0x10a6473c8>"
      ]
     },
     "execution_count": 21,
     "metadata": {},
     "output_type": "execute_result"
    },
    {
     "data": {
      "image/png": "[encoded data removed]",
      "text/plain": [
       "<matplotlib.figure.Figure at 0x1093ebd68>"
      ]
     },
     "metadata": {},
     "output_type": "display_data"
    }
   ],
   "source": [
    "xgb_modelcv[['test-r2-mean', 'train-r2-mean']].plot()\n",
    "#plt.xlim(400,500)"
   ]
  },
  {
   "cell_type": "markdown",
   "metadata": {},
   "source": [
    "# Make test predictions"
   ]
  },
  {
   "cell_type": "code",
   "execution_count": 24,
   "metadata": {
    "collapsed": true
   },
   "outputs": [],
   "source": [
    "# get predictions from model\n",
    "dtest = xgb.DMatrix(data=X_test)\n",
    "y_pred2 = xgb_model.predict(dtest)"
   ]
  },
  {
   "cell_type": "code",
   "execution_count": 25,
   "metadata": {},
   "outputs": [],
   "source": [
    "# average predictions from stacked model and xgb\n",
    "y_pred = y_pred2*0.75 + y_pred1*0.25"
   ]
  },
  {
   "cell_type": "code",
   "execution_count": 26,
   "metadata": {
    "collapsed": true
   },
   "outputs": [],
   "source": [
    "# create submission csv file\n",
    "dirname = 'output'\n",
    "count = len(os.listdir(os.path.join(os.getcwd(), dirname))) + 1\n",
    "filename = 'sub' + str(count) + '_xgb' + '_maxdepth' + str(param['max_depth']) + '_eta' + str(param['eta']) + \\\n",
    "           '_numround' + str(num_round) + '.csv'\n",
    "pd.concat([test.ID, pd.Series(y_pred)], axis=1).to_csv(dirname + '/' + filename,\n",
    "                                                       header=['ID', 'y'], index=False)"
   ]
  },
  {
   "cell_type": "code",
   "execution_count": 16,
   "metadata": {},
   "outputs": [],
   "source": [
    ""
   ]
  },
  {
   "cell_type": "code",
   "execution_count": null,
   "metadata": {},
   "outputs": [],
   "source": [
    ""
   ]
  }
 ],
 "metadata": {
  "kernelspec": {
   "display_name": "Python 3",
   "language": "python",
   "name": "python3"
  },
  "language_info": {
   "codemirror_mode": {
    "name": "ipython",
    "version": 3.0
   },
   "file_extension": ".py",
   "mimetype": "text/x-python",
   "name": "python",
   "nbconvert_exporter": "python",
   "pygments_lexer": "ipython3",
   "version": "3.6.1"
  }
 },
 "nbformat": 4,
 "nbformat_minor": 0
}